{
 "metadata": {
  "language_info": {
   "codemirror_mode": {
    "name": "ipython",
    "version": 3
   },
   "file_extension": ".py",
   "mimetype": "text/x-python",
   "name": "python",
   "nbconvert_exporter": "python",
   "pygments_lexer": "ipython3",
   "version": "3.8.3-final"
  },
  "orig_nbformat": 2,
  "kernelspec": {
   "name": "python38364bitbasecondad62b09f6d1c4476fa95fffd872485726",
   "display_name": "Python 3.8.3 64-bit ('base': conda)"
  }
 },
 "nbformat": 4,
 "nbformat_minor": 2,
 "cells": [
  {
   "cell_type": "code",
   "execution_count": 1,
   "metadata": {},
   "outputs": [
    {
     "output_type": "stream",
     "name": "stdout",
     "text": [
      "Hello World\n"
     ]
    }
   ],
   "source": [
    "print('Hello World')"
   ]
  },
  {
   "cell_type": "code",
   "execution_count": 37,
   "metadata": {},
   "outputs": [
    {
     "output_type": "error",
     "ename": "TypeError",
     "evalue": "'str' object is not callable",
     "traceback": [
      "\u001b[0;31m---------------------------------------------------------------------------\u001b[0m",
      "\u001b[0;31mTypeError\u001b[0m                                 Traceback (most recent call last)",
      "\u001b[0;32m<ipython-input-37-e3aff6a4c9c6>\u001b[0m in \u001b[0;36m<module>\u001b[0;34m\u001b[0m\n\u001b[1;32m     22\u001b[0m \u001b[0myValues\u001b[0m \u001b[0;34m=\u001b[0m \u001b[0mlife_df\u001b[0m\u001b[0;34m[\u001b[0m\u001b[0;34m\"Life expectancy\"\u001b[0m\u001b[0;34m]\u001b[0m\u001b[0;34m\u001b[0m\u001b[0;34m\u001b[0m\u001b[0m\n\u001b[1;32m     23\u001b[0m \u001b[0mpyplot\u001b[0m\u001b[0;34m.\u001b[0m\u001b[0mscatter\u001b[0m\u001b[0;34m(\u001b[0m\u001b[0mxValues\u001b[0m\u001b[0;34m,\u001b[0m \u001b[0myValues\u001b[0m\u001b[0;34m)\u001b[0m\u001b[0;34m\u001b[0m\u001b[0;34m\u001b[0m\u001b[0m\n\u001b[0;32m---> 24\u001b[0;31m \u001b[0mpyplot\u001b[0m\u001b[0;34m.\u001b[0m\u001b[0mxlabel\u001b[0m\u001b[0;34m(\u001b[0m\u001b[0;34m'GDP'\u001b[0m\u001b[0;34m)\u001b[0m\u001b[0;34m\u001b[0m\u001b[0;34m\u001b[0m\u001b[0m\n\u001b[0m\u001b[1;32m     25\u001b[0m \u001b[0mpyplot\u001b[0m\u001b[0;34m.\u001b[0m\u001b[0mylabel\u001b[0m\u001b[0;34m(\u001b[0m\u001b[0;34m'Life Expectancy'\u001b[0m\u001b[0;34m)\u001b[0m\u001b[0;34m\u001b[0m\u001b[0;34m\u001b[0m\u001b[0m\n\u001b[1;32m     26\u001b[0m \u001b[0mpyplot\u001b[0m\u001b[0;34m.\u001b[0m\u001b[0mtitle\u001b[0m\u001b[0;34m(\u001b[0m\u001b[0;34m\"Life Expectancy vs. GDP\"\u001b[0m\u001b[0;34m)\u001b[0m\u001b[0;34m\u001b[0m\u001b[0;34m\u001b[0m\u001b[0m\n",
      "\u001b[0;31mTypeError\u001b[0m: 'str' object is not callable"
     ]
    }
   ],
   "source": [
    "import matplotlib.pyplot as pyplot\n",
    "import pandas as pd\n",
    "import numpy as np\n",
    "\n",
    "year = 2016\n",
    "\n",
    "gdp_df = pd.read_csv(\"./datasets/gdp.csv\")\n",
    "gdp_df = gdp_df.loc[gdp_df[\"Year\"] == year]\n",
    "\n",
    "life_df = pd.read_csv(\"./datasets/life.csv\")\n",
    "life_df = life_df.loc[life_df[\"Year\"] == year]\n",
    "life_df = life_df[life_df[\"Entity\"].isin(gdp_df[\"Entity\"])]\n",
    "gdp_df = gdp_df[gdp_df[\"Entity\"].isin(life_df[\"Entity\"])]\n",
    "\n",
    "# print(len(gdp_df))\n",
    "# print(len(life_df))\n",
    "\n",
    "# print(gdp_df)\n",
    "# print(life_df)\n",
    "\n",
    "xValues = gdp_df[\"Real GDP per capita in 2011US$, multiple benchmarks (Maddison Project Database (2018))\"]\n",
    "yValues = life_df[\"Life expectancy\"]\n",
    "pyplot.scatter(xValues, yValues)\n",
    "pyplot.xlabel('GDP')\n",
    "pyplot.ylabel('Life Expectancy')\n",
    "pyplot.title(\"Life Expectancy vs. GDP\")\n",
    "pyplot.show()"
   ]
  }
 ]
}