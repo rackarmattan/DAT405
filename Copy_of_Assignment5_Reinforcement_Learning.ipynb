{
  "nbformat": 4,
  "nbformat_minor": 0,
  "metadata": {
    "kernelspec": {
      "display_name": "Python 3",
      "language": "python",
      "name": "python3"
    },
    "language_info": {
      "codemirror_mode": {
        "name": "ipython",
        "version": 3
      },
      "file_extension": ".py",
      "mimetype": "text/x-python",
      "name": "python",
      "nbconvert_exporter": "python",
      "pygments_lexer": "ipython3",
      "version": "3.7.4"
    },
    "colab": {
      "name": "Copy of Assignment5_Reinforcement_Learning.ipynb",
      "provenance": [],
      "collapsed_sections": [],
      "include_colab_link": true
    }
  },
  "cells": [
    {
      "cell_type": "markdown",
      "metadata": {
        "id": "view-in-github",
        "colab_type": "text"
      },
      "source": [
        "<a href=\"https://colab.research.google.com/github/rackarmattan/DAT405/blob/master/Copy_of_Assignment5_Reinforcement_Learning.ipynb\" target=\"_parent\"><img src=\"https://colab.research.google.com/assets/colab-badge.svg\" alt=\"Open In Colab\"/></a>"
      ]
    },
    {
      "cell_type": "markdown",
      "metadata": {
        "id": "O73TxqjJH7e7"
      },
      "source": [
        "**DAT405 Introduction to Data Science and AI, 2010-2021, Study Period 2** <br/>\n",
        "**Assignment 5: Reinforcement learning and Classification** <br/>\n",
        "**Due Date: Dec 9, 23:59** <br/>\n",
        "\n",
        "---\n",
        "\n",
        "\n",
        "**What to submit**\n",
        "*   **The entire assignment should be submitted through the notebook. No separate file will be accepted.** You can submit either the notebook itself, or a public link to a Google Colab notebook<br/>\n",
        "\n",
        "*In the notebook:*\n",
        "*\tState your names and how many hours each person spent on the assignment.\n",
        "*\tThe solutions and answers to the theoretical and practical problems, including LaTeX math-mode equations, plots and tables etc.\n",
        "*\tAll plots/results should be visible such that the notebook does not have to be run. But the code in the notebook should reproduce the plots/results if we choose to do so.<br/>\n",
        "\n",
        "*Before submitting:*\n",
        "*   Make sure that your code can run on another computer. That all plots can show on another computer including all your writing. It is good to check if your code can run here: https://colab.research.google.com."
      ]
    },
    {
      "cell_type": "markdown",
      "metadata": {
        "id": "jDuY3qwbH7e7"
      },
      "source": [
        "**Self-check**<br/>\n",
        "Is all the required information included? Have you answered all questions to the best of your ability? Anything else you can easily check? (details, terminology, arguments, clearly stated answers etc.?) Does your notebook run and can reproduce the results, plots and tables?\n",
        "\n",
        "**Grading**<br/>\n",
        "Grading will be based on a qualitative assessment of each assignment. It is important to:\n",
        "*\tPresent clear arguments\n",
        "*\tPresent the results in a pedagogical way\n",
        "*\tShow understanding of the topics (e.g, write a pseudocode) \n",
        "*\tGive correct solutions\n",
        "*\tMake sure that the code is well commented \n",
        "\n",
        "**Again, as mentioned in general guidelines, all code should be written here. And this same ipython notebook file (Assignment5_Reinforcement_Learning.ipynb) should be submitted with answers and code written in it. No separate file will be accepted.** \n"
      ]
    },
    {
      "cell_type": "markdown",
      "metadata": {
        "id": "m_6obY12H7e7"
      },
      "source": [
        "# Primer\n",
        "\n",
        "## Decision Making\n",
        "The problem of **decision making under uncertainty** (commonly known as **reinforcement learning**) can be broken down into\n",
        "two parts. First, how do we learn about the world? This involves both the\n",
        "problem of modeling our initial uncertainty about the world, and that of drawing conclusions from evidence and our initial belief. Secondly, given what we\n",
        "currently know about the world, how should we decide what to do, taking into\n",
        "account future events and observations that may change our conclusions?\n",
        "Typically, this will involve creating long-term plans covering possible future\n",
        "eventualities. That is, when planning under uncertainty, we also need to take\n",
        "into account what possible future knowledge could be generated when implementing our plans. Intuitively, executing plans which involve trying out new\n",
        "things should give more information, but it is hard to tell whether this information will be beneficial. The choice between doing something which is already\n",
        "known to produce good results and experiment with something new is known\n",
        "as the **exploration-exploitation dilemma**.\n",
        "\n",
        "## The exploration-exploitation trade-off\n",
        "\n",
        "Consider the problem of selecting a restaurant to go to during a vacation. Lets say the\n",
        "best restaurant you have found so far was **Les Epinards**. The food there is\n",
        "usually to your taste and satisfactory. However, a well-known recommendations\n",
        "website suggests that **King’s Arm** is really good! It is tempting to try it out. But\n",
        "there is a risk involved. It may turn out to be much worse than **Les Epinards**,\n",
        "in which case you will regret going there. On the other hand, it could also be\n",
        "much better. What should you do?\n",
        "It all depends on how much information you have about either restaurant,\n",
        "and how many more days you’ll stay in town. If this is your last day, then it’s\n",
        "probably a better idea to go to **Les Epinards**, unless you are expecting **King’s\n",
        "Arm** to be significantly better. However, if you are going to stay there longer,\n",
        "trying out **King’s Arm** is a good bet. If you are lucky, you will be getting much\n",
        "better food for the remaining time, while otherwise you will have missed only\n",
        "one good meal out of many, making the potential risk quite small."
      ]
    },
    {
      "cell_type": "markdown",
      "metadata": {
        "id": "fC-SVg0ZH7e7"
      },
      "source": [
        "## Overview\n",
        "* To make things concrete, we will first focus on decision making under **no** uncertainity, i.e, given we have a world model, we can calculate the exact and optimal actions to take in it. We will first introduce **Markov Decision Process (MDP)** as the world model. Then we give one algorithm (out of many) to solve it.\n",
        "\n",
        "\n",
        "* Next, we will work through one type of reinforcement learning algorithm called Q-learning. Q-learning is an algorithm for making decisions under uncertainity, where uncertainity is over the possible world model (here MDP). It will find the optimal policy for the **unknown** MDP, assuming we do infinite exploration."
      ]
    },
    {
      "cell_type": "markdown",
      "metadata": {
        "id": "2zZ6HjxpH7e7"
      },
      "source": [
        "## Markov Decision Process"
      ]
    },
    {
      "cell_type": "markdown",
      "metadata": {
        "id": "KurOZxYjH7e7"
      },
      "source": [
        "Markov Decision Process (MDP) provides a mathematical framework for modeling sequential decision making under uncertainty. A MDP consists of five parts: the specific decision times, the state space of the environment/system, the available actions for the decision maker, the rewards, and the transition probabilities between the states.\n",
        "\n",
        "* Decision epochs: $t={1,2,...,T}$, where $T\\leq \\infty$\n",
        "* State space: $S=\\{s_1,s_2,...,s_N\\}$ of the underlying environment\n",
        "* Action space $A=\\{a_1,a_2,...,a_K\\}$ available to the decision maker at each decision epoch\n",
        "* Reward functions $R_t = r(a_t,s_t,s_{t+1})$ for the current state and action, and the resulting next state\n",
        "* Transition probabilities $p(s'|s,a)$ that taking action $a$ in state $s$ will lead to state $s'$\n",
        "\n",
        "At a given decision epoch $t$ and system state $s_t$, the decions maker, or *agent*, chooses an action $a_t$, the system jumps to a new state $s_{t+1}$ according to the transition probability $p(s_{t+1}|s_t,a_t)$, and the agent receives a reward $r_t(s_t,a_t,s_{t+1})$. This process is then repeated for a finite or infinite number of times.\n",
        "\n",
        "A *decision policy* is a function $\\pi: s \\rightarrow a$, that gives instructions on what action to choose in each state. A policy can either be *deterministic*, meaning that the action is given for each state, or *randomized* meaning that there is a probability distribution over the set of possible actions. Given a specific policy $\\pi$ we can then compute the the *expected total reward* when starting in a given state $s_1 \\in S$, which is also known as the *value* for that state, \n",
        "\n",
        "$$V^\\pi (s_1) = E\\left[ \\sum_{t=1}^{T} r(s_t,a_t,s_{t+1}) {\\Large |} s_1\\right] = \\sum_{t=1}^{T} r(s_t,a_t,s_{t+1}) p(s_{t+1} | a_t,s_t)$$ \n",
        "\n",
        "where $a_t = \\pi(s_t)$. To ensure convergence and to control how much credit to give to future rewards, it is common to introduce a *discount factor* $\\gamma \\in [0,1]$. For instance, if you think all future rewards should count equally, you would use $\\gamma = 1$, while if you only care less about future rewards you would use $\\gamma < 1$. The expected total *discounted* reward becomes\n",
        "\n",
        "$$V^\\pi( s_1) = \\sum_{t=1}^T \\gamma^{t-1} r(s_t,a_t, s_{t+1}) p(s_{t+1} | s_t, a_t) $$\n",
        "\n",
        "Now, to find the *optimal* policy we want to find the policy $\\pi^*$ that gives the highest total reward $V^{\\pi^*}(s)$ for all $s\\in S$. That is\n",
        "\n",
        "$$V^{\\pi^*}(s) \\geq V^\\pi(s), s\\in S$$\n",
        "\n",
        "The problem of finding the optimal policy is a _dynamic programming problem_. It turns out that a solution to the optimal policy problem in this context is the *Bellman equation*. The Bellman equation is given by\n",
        "\n",
        "$$V(s) = \\max_{a\\in A} \\left\\{\\sum_{s'\\in S} p(s'|s,a)( r(s,a,s') +\\gamma V(s')) \\right\\}$$\n",
        "\n",
        "Thus, it can be shown that if $\\pi$ is a policy such that $V^\\pi$ fulfills the Bellman equation, then $\\pi$ is an optimal policy.\n",
        "\n",
        "A real world example would be an inventory control system. Your states would be the amount of items you have in stock. Your actions would be the amount to order. The discrete time would be the days of the month. The reward would be the profit.  \n",
        "\n",
        "A major drawback of MDPs is called the \"Curse of Dimensionality\". MDPs unfortunately do not scale very well with increasing sets of states or actions.   \n"
      ]
    },
    {
      "cell_type": "markdown",
      "metadata": {
        "id": "0iUmTgzwH7e7"
      },
      "source": [
        "## Question 1"
      ]
    },
    {
      "cell_type": "markdown",
      "metadata": {
        "id": "QWPya78-H7e7"
      },
      "source": [
        "In this first question we work with the deterministic MDP, no code is necessary in this part.\n",
        "\n",
        "Setup:\n",
        "\n",
        "* The agent starts in state **S**\n",
        "* The actions possible are **N** (north), **S** (south), **E** (east), and **W** west. \n",
        "* Note, that you cannot move outside the grid, thus all actions are not available in every box.\n",
        "* When reaching **F**, the game ends (absorbing state).\n",
        "* The numbers in the boxes represent the rewards you receive when moving into that box. \n",
        "* Assume no discount in this model: $\\gamma = 1$\n",
        "\n",
        "The reward of a state $r(s=(x, y))$ is given by the values on the grid:\n",
        "    \n",
        "| | | |\n",
        "|----------|----------|---------|\n",
        "|-1 |1|**F**|\n",
        "|0|-1|1|  \n",
        "|-1 |0|-1|  \n",
        "|**S**|-1|1|\n",
        "\n",
        "Let $(x,y)$ denote the position in the grid, such that $S=(0,0)$ and $F=(2,3)$.\n",
        "\n",
        "**1a)** What is the optimal path of the MDP above? Is it unique? Submit the path as a single string of directions. E.g. NESW will make a circle.\n",
        "\n",
        "**Ans:** The optimal path is EENNN, as that is the only path that contains no zeros. Every path from S to F will contain at least two -1's, hence a path with no 0 will be the optimal path as the reward generated is the largest.\n",
        "\n",
        "\n",
        "**1b)** What is the optimal policy (i.e. the optimal action in each state)?\n",
        "\n",
        "**Ans:**\n",
        "1. In state $S_{0,0}$ : do action E\n",
        "2. In state $S_{1,0}$ : do action E\n",
        "3. In state $S_{2,0}$ : do action N\n",
        "4. In state $S_{2,1}$ : do action N\n",
        "5. In state $S_{2,2}$ : do action N\n",
        "\n",
        "**1c)** What is expected total reward for the policy in 1b)?\n",
        "\n",
        "**Ans:** 0\n"
      ]
    },
    {
      "cell_type": "markdown",
      "metadata": {
        "id": "ZyQ7IatcH7e7"
      },
      "source": [
        "## Value Iteration"
      ]
    },
    {
      "cell_type": "markdown",
      "metadata": {
        "id": "5NfqElM_H7e7"
      },
      "source": [
        "For larger problems we need to utilize algorithms to determine the optimal policy $\\pi^*$. *Value iteration* is one such algorithm that iteratively computes the value for each state. Recall that for a policy to be optimal, it must satisfy the Bellman equation above, meaning that plugging in a given candidate $V^*$ in the right-hand side (RHS) of the Bellman equation should result in the same $V^*$ on the left-hand side (LHS). This property will form the basis of our algorithm. Essentially, it can be shown that repeated application of the RHS to any intial value function $V^0(s)$ will eventually lead to the value $V$ which statifies the Bellman equation. Hence repeated application of the Bellman equation will also lead to the optimal value function. We can then extract the optimal policy by simply noting what actions that satisfy the equation. The process of repeated application of the Bellman equation what we here call the _value iteration_ algorithm."
      ]
    },
    {
      "cell_type": "markdown",
      "metadata": {
        "id": "4qbn4HjqR2fA"
      },
      "source": [
        "The value iteration algorithm practically procedes as follows:\n",
        "\n",
        "```\n",
        "epsilon is a small value, threshold\n",
        "for x from i to infinity \n",
        "do\n",
        "    for each state s\n",
        "    do\n",
        "        V_k[s] = max_a Σ_s' p(s′|s,a)*(r(a,s,s′) + γ*V_k−1[s′])\n",
        "    end\n",
        "    if  |V_k[s]-V_k-1[s]| < epsilon for all s\n",
        "        for each state s,\n",
        "        do\n",
        "            π(s)=argmax_a ∑_s′ p(s′|s,a)*(r(a,s,s′) + γ*V_k−1[s′])\n",
        "            return π, V_k \n",
        "        end\n",
        "end\n",
        "\n",
        "```\n",
        "\n",
        "\n",
        "\n",
        "\n"
      ]
    },
    {
      "cell_type": "markdown",
      "metadata": {
        "id": "K7hOzat7H7e8"
      },
      "source": [
        "**Example:** We will illustrate the value iteration algorithm by going through two iterations. Below is a 3x3 grid with the rewards given in each state. Assume now that given a certain state $s$ and action $a$, there is a probability of 0.8 that that action will be performed and a probability of 0.2 that no action is taken. For instance, if we take action **E** in state $(x,y)$ we will go to $(x+1,y)$ 80 percent of the time (given that that action is available in that state, that is, we stay on the grid), and remain still 20 percent of the time. We will use have a discount factor $\\gamma = 0.9$. Let the initial value be $V^0(s)=0$ for all states $s\\in S$. \n",
        "\n",
        "| | | |  \n",
        "|----------|----------|---------|  \n",
        "|0|0|0|\n",
        "|0|10|0|  \n",
        "|0|0|0|  \n",
        "\n",
        "\n",
        "**Iteration 1**: The first iteration is trivial, $V^1(s)$ becomes the $\\max_a \\sum_{s'} p(s'|s,a) r(s,a,s')$ since $V^0$ was zero for all $s'$. The updated values for each state become\n",
        "\n",
        "| | | |  \n",
        "|----------|----------|---------|  \n",
        "|0|8|0|\n",
        "|8|2|8|  \n",
        "|0|8|0|  \n",
        "  \n",
        "**Iteration 2**:  \n",
        "  \n",
        "Staring with cell (0,0) (lower left corner): We find the expected value of each move:  \n",
        "Action **S**: 0  \n",
        "Action **E**: 0.8( 0 + 0.9 \\* 8) + 0.2(0 + 0.9 \\* 0) = 5.76  \n",
        "Action **N**: 0.8( 0 + 0.9 \\* 8) + 0.2(0 + 0.9 \\* 0) = 5.76  \n",
        "Action **W**: 0\n",
        "\n",
        "Hence any action between **E** and **N** would be best at this stage.\n",
        "\n",
        "Similarly for cell (1,0):\n",
        "\n",
        "Action **N**: 0.8( 10 + 0.9 \\* 2) + 0.2(0 + 0.9 \\* 8) = 10.88 (Action **N** is the maximizing action)  \n",
        "\n",
        "Similar calculations for remaining cells give us:\n",
        "\n",
        "| | | |  \n",
        "|----------|----------|---------|  \n",
        "|5.76|10.88|5.76|\n",
        "|10.88|8.12|10.88|  \n",
        "|5.76|10.88|5.76|  \n"
      ]
    },
    {
      "cell_type": "markdown",
      "metadata": {
        "id": "ccoMLc71H7e8"
      },
      "source": [
        "## Question 2\n",
        "\n",
        "**2a)** Implement the value iteration algorithm just described here in python, and show the converging optimal value function and the optimal policy for the above 3x3 grid. Hint: use the pseudo-code above as a starting point, but be sure to explain what every line does.\n",
        "\n",
        "**2b)** Explain why the result of 2a) does not depend on the initial value $V_0$."
      ]
    },
    {
      "cell_type": "code",
      "metadata": {
        "id": "24Mo4bbQdy9g"
      },
      "source": [
        "# QUESTION 2\n",
        "################# HELPER FUNCTIONS #################\n",
        "\n",
        "# Takes a position, width and height of a grid and return possible actions from that position\n",
        "# Actions and probability is taken from question 2 description\n",
        "def get_actions(x, y, width, height):\n",
        "    all_actions = {\n",
        "        \"W\": {\n",
        "            \"pos\": (x + -1, y),\n",
        "            \"prob\": 0.8\n",
        "        }, \n",
        "        \"E\": {\n",
        "            \"pos\": (x + 1, y),\n",
        "            \"prob\": 0.8\n",
        "        },\n",
        "        \"N\": {\n",
        "            \"pos\": (x, y + 1),\n",
        "            \"prob\": 0.8\n",
        "        }, \n",
        "        \"S\": {\n",
        "            \"pos\": (x, y + -1),\n",
        "            \"prob\": 0.8\n",
        "        }\n",
        "    }\n",
        "    if y == height-1:\n",
        "        # At the top\n",
        "        del all_actions[\"N\"]\n",
        "    if y == 0:\n",
        "        #At the bottom\n",
        "        del all_actions[\"S\"]\n",
        "    if x == 0:\n",
        "        #To the left\n",
        "        del all_actions[\"W\"]\n",
        "    if x == width-1:\n",
        "        #To the right\n",
        "        del all_actions[\"E\"]\n",
        "\n",
        "    return all_actions    \n",
        "\n",
        "# Take a list of actions with rewards and return the action that gives the highest reward \n",
        "def get_max_action(l):\n",
        "    current_action = None\n",
        "    max_reward = -1000000\n",
        "    for el in l:\n",
        "        reward = el[\"reward\"]\n",
        "        if (reward > max_reward):\n",
        "            max_reward = reward\n",
        "            current_action = el\n",
        "    return current_action\n",
        "\n",
        "# Prints given value grid and policy grid\n",
        "def print_grids(grid = None , p_grid = None):\n",
        "    print(\"Value matrix\")\n",
        "    if (grid != None):\n",
        "        for row in reversed(grid):\n",
        "            print(row)\n",
        "    print(\"\\nPolicy matrix\")\n",
        "    if (p_grid != None):\n",
        "        for row in reversed(p_grid):\n",
        "            print(row)\n",
        "    print(\"\\n\")\n",
        "\n",
        "def get_max_value_action(x, y, grid, reward_grid, discount, ):\n",
        "    # List of all possible actions on given state (x,y)\n",
        "    possible_actions = get_actions(x, y, len(grid[0]),len(grid))\n",
        "    # List of all possible next states rewards\n",
        "    next_state_rewards = []\n",
        "    # Iterate over possible actions and save all the rewards for possible next states in list\n",
        "    for action in possible_actions:\n",
        "        # The probability to succeed on given action\n",
        "        prob = possible_actions[action][\"prob\"]\n",
        "        # Position for next state on given action\n",
        "        next_state = {\"x\": possible_actions[action][\"pos\"][0], \"y\": possible_actions[action][\"pos\"][1]}\n",
        "        # Value on the next state in the current grid on given action \n",
        "        next_state_reward = grid[next_state[\"y\"]][next_state[\"x\"]]\n",
        "        # Value on the current state in the current grid on given action \n",
        "        current_state_reward = grid[y][x]\n",
        "        # Reward given if performing an action an to the next state\n",
        "        immediate_reward_move = reward_grid[next_state['y']][next_state['x']]\n",
        "        # Reward given if remaining on in the current state\n",
        "        immediate_reward_remain = reward_grid[y][x]\n",
        "        # Calculate reward on performing given action\n",
        "        reward = prob * (immediate_reward_move + discount * next_state_reward) + (1.0 - prob) * (immediate_reward_remain + discount * current_state_reward)\n",
        "        # Add current action and reward\n",
        "        next_state_rewards.append({\"action\": action, \"reward\": reward})\n",
        "    # Return a dict containing the action that resulted with the highest reward\n",
        "    return get_max_action(next_state_rewards)"
      ],
      "execution_count": null,
      "outputs": []
    },
    {
      "cell_type": "code",
      "metadata": {
        "id": "cSgr0a9pGi5T"
      },
      "source": [
        "# Performs a value iteration algorithm on a grid v0, reward_grid,action probality and discount factor.\n",
        "# Returns s Vk(s) matrix with vaules in each state and a matrix with policies\n",
        "def value_iteration(grid, reward_grid, discount = 1, epsilon = 1e-5,current_iteration = 1):\n",
        "    # Size variables of the grid\n",
        "    width = len(grid[0])\n",
        "    height = len(grid)\n",
        "    # Temporary grid of zeros to put in new values for the next state rewards\n",
        "    temp_grid = [[0] * width for _ in range(height)]\n",
        "    # Variable to keep track if the algorithm should keep iterating or stop and return\n",
        "    keep_iterate = False\n",
        "\n",
        "    # Calculate optimal values for all states given the possible actions for each state\n",
        "    for x in range(width):\n",
        "        for y in range(height):\n",
        "            vks = get_max_value_action(x, y, grid, reward_grid, discount)[\"reward\"]\n",
        "            temp_grid[y][x] = round(vks, 3)\n",
        "    \n",
        "    # Check if the new value for each state is good enough to keep iterating or if it has no great impact, \n",
        "    # then set keep_iterating to false to stop and return  \n",
        "    for x in range(width):\n",
        "        for y in range(height):\n",
        "            diff = abs(temp_grid[y][x] - grid[y][x])\n",
        "            if diff > epsilon:\n",
        "               keep_iterate = True\n",
        "    # Calculate optimal policy for each state given the optimal value grid and then return the value grid and policy grid   \n",
        "    if  not keep_iterate:\n",
        "        policy_grid = [[[]] * width for _ in range(height)]\n",
        "        for x in range(width):\n",
        "            for y in range(height):\n",
        "                pis = get_max_value_action(x, y, grid, reward_grid, discount)[\"action\"]\n",
        "                policy_grid[y][x] = policy_grid[y][x] + [pis]\n",
        "                \n",
        "        return temp_grid, policy_grid\n",
        "    else:\n",
        "        current_iteration += 1                    \n",
        "        return value_iteration(temp_grid, reward_grid, disc, current_iteration)"
      ],
      "execution_count": null,
      "outputs": []
    },
    {
      "cell_type": "code",
      "metadata": {
        "colab": {
          "base_uri": "https://localhost:8080/"
        },
        "id": "KxNtjeSpMMi1",
        "outputId": "90aa280f-3a60-415d-bb57-42c7ba566b82"
      },
      "source": [
        "# VARIABLE SETUP FOR VALUE ITERATION QEUSTION 2\n",
        "v0 = [[0] * 3 for _ in range(3)]\n",
        "reward_grid = [[0, 0, 0],\n",
        "               [0, 10,0],\n",
        "               [0, 0, 0]]\n",
        "# QEUSTION 2, result\n",
        "grid, policys = value_iteration(grid = v0, reward_grid = reward_grid, discount = 0.9)\n",
        "print_grids(grid, policys)"
      ],
      "execution_count": null,
      "outputs": [
        {
          "output_type": "stream",
          "text": [
            "Value matrix\n",
            "[57.884, 64.176, 57.884]\n",
            "[64.176, 60.354, 64.176]\n",
            "[57.884, 64.176, 57.884]\n",
            "\n",
            "Policy matrix\n",
            "[['E'], ['S'], ['W']]\n",
            "[['E'], ['W'], ['W']]\n",
            "[['E'], ['N'], ['W']]\n",
            "\n",
            "\n"
          ],
          "name": "stdout"
        }
      ]
    },
    {
      "cell_type": "markdown",
      "metadata": {
        "id": "_m81ZQ5ffRD7"
      },
      "source": [
        "**2b.** As the immediate reward, given by going to a certain state is fixed, it is the reward matrix that will steer the policy. As the discount is only applied on the reward at a certain state, not the immediate reward given by the reward matrix, the rewards given from the states get smaller and smaller as the iterations keep going. "
      ]
    },
    {
      "cell_type": "markdown",
      "metadata": {
        "id": "BQXoOa7LH7e8"
      },
      "source": [
        "## Reinforcement Learning (RL)\n",
        "Until now, we understood that knowing the MDP, specifically $p(s'|a,s)$ and $r(a,s,s')$ allows us to efficiently find the optimal policy using the value iteration algorithm. Reinforcement learning (RL) or decision making under uncertainity, however, arises from the question of making optimal decisions without knowing the true world model (the MDP in this case).\n",
        "\n",
        "So far we have defined the value function for a policy through $V^\\pi$. Let's now define the *action-value function*\n",
        "\n",
        "$$Q^\\pi(s,a) = \\sum_{s'} p(s'|a,s) [r(a,s,s') + \\gamma V^\\pi(s')]$$\n",
        "\n",
        "The value function and the action-value function are directly related through\n",
        "\n",
        "$$V^\\pi (s) = \\max_a Q^\\pi (s,a)$$\n",
        "\n",
        "i.e, the value of taking action $a$ in state $s$ and then following the policy $\\pi$ onwards. Similarly to the value function, the optimal $Q$-value equation is:\n",
        "\n",
        "$$Q^*(s,a) = \\sum_{s'} p(s'|a,s) [r(a,s\n",
        "]\\,s') + \\gamma V^*(s')]$$\n",
        "\n",
        "and the relationship between $Q^*(s,a)$ and $V^*(s)$ is simply\n",
        "\n",
        "$$V^*(s) = \\max_{a\\in A} Q^*(s,a).$$\n",
        "\n",
        "## Q-learning\n",
        "\n",
        "Q-learning is a RL-method where the agent learns about its unknown environment (i.e. the MDP is unknown) through exploration. In each time step *t* the agent chooses an action *a* based on the current state *s*, observes the reward *r* and the next state *s'*, and repeats the process in the new state. Q-learning is then a method that allows the agent to act optimally. Here we will focus on the simplest form of Q-learning algorithms, which can be applied when all states are known to the agent, and the state and action spaces are reasonably small. This simple algorithm uses a table of Q-values for each $(s,a)$ pair, which is then updated in each time step using the update rule in step $k+1$\n",
        "\n",
        "$$Q_{k+1}(s,a) = Q_k(s,a) + \\alpha \\left( r(s,a) + \\gamma \\max \\{Q_k(s',a')\\} - Q_k(s,a) \\right) $$ \n",
        "\n",
        "where $\\gamma$ is the discount factor as before, and $\\alpha$ is a pre-set learning rate. It can be shown that this algorithm converges to the optimal policy of the underlying MDP for certain values of $\\alpha$ as long as there is sufficient exploration. While a constant $\\alpha$ generally does not guarantee us to reach true convergence, we keep it constant at $\\alpha=0.1$ for this assignment.\n",
        "\n",
        "## OpenAI Gym\n",
        "\n",
        "We shall use already available simulators for different environments (worlds) using the popular OpenAI Gym library. It just implements [different types of simulators](https://gym.openai.com/) including ATARI games. Although here we will only focus on simple ones, such as the [Chain enviroment](https://gym.openai.com/envs/NChain-v0/) illustrated below.\n",
        "![alt text](https://chalmersuniversity.box.com/shared/static/6tthbzhpofq9gzlowhr3w8if0xvyxb2b.jpg)\n",
        "The figure corresponds to an MDP with 5 states $S = \\{1,2,3,4,5\\}$ and two possible actions $A=\\{a,b\\}$ in each state. The arrows indicate the resulting transitions for each state-action pair, and the numbers correspond to the rewards for each transition.\n",
        "\n",
        "## Question 3\n",
        "You are to first familiarize with the framework using its [documentation](http://gym.openai.com/docs/), and then implement the Q-learning algorithm for the Chain enviroment (called 'NChain-v0') using default parameters. Finally print the $Q^*$ table at convergence. Convergence is **not** a constant value, rather a stable plateau with some noise. Take $\\gamma=0.95$. You can refer to the Q-learning (frozen lake) Jupyter notebook shown in class, uploaded on Canvas. Hint: start with a small learning rate.\n",
        "\n",
        "## Question 4\n",
        "\n",
        "**4a)** Define the MDP corresponding to the Chain environment above and verify that the optimal $Q^*$ value obtained using simple Q-learning is the same as the optimal value function $V^*$ for the corresponding MDP's optimal action. Hint: compare values obtained using value iteration and Q-learning.\n",
        "\n",
        "**4b)** What is the importance of exploration in RL? Explain with an example.\n"
      ]
    },
    {
      "cell_type": "code",
      "metadata": {
        "colab": {
          "base_uri": "https://localhost:8080/"
        },
        "id": "lwO8Sn4qrfx3",
        "outputId": "12d1b855-99da-48fc-f135-41e23b24eadc"
      },
      "source": [
        "# QUESTION 3\n",
        "import gym\n",
        "import numpy as np\n",
        "import random\n",
        "import math\n",
        "\n",
        "env = gym.make(\"NChain-v0\") \n",
        "\n",
        "# Five states and two acitons qives a 5*2 matrix\n",
        "q_table = np.zeros((5, 2))\n",
        "\n",
        "# Discount factor\n",
        "disc = 0.95\n",
        "\n",
        "# Learning rate\n",
        "learn_rate = 0.1\n",
        "\n",
        "# The probability of exploring\n",
        "epsilon = 0.5\n",
        "\n",
        "# The no iterations\n",
        "num_iterations=100\n",
        "for i in range(num_iterations):\n",
        "    # Reset the environment at the beginning\n",
        "    s = env.reset()\n",
        "    done = False\n",
        "    \n",
        "    # Step through environment\n",
        "    while not done:\n",
        "        # Choose a random action if a random number is lower than epsilon, allows exploration\n",
        "        if np.random.random() < epsilon or np.sum(q_table[s, :]) == 0:\n",
        "            action = np.random.randint(0,2)\n",
        "        \n",
        "        # Choose the action that has the highest Q value in the table at the current state\n",
        "        else:\n",
        "            action = np.argmax(q_table[s, :])\n",
        "        \n",
        "        # Take a step in the environment using the chosen action\n",
        "        new_state, reward, done, info = env.step(action)\n",
        "        # Add the Q value generated by this aciton at this step at the action and step position in the Q table\n",
        "        q_table[s, action] += reward + learn_rate * (disc*np.max(q_table[new_state, :]) - q_table[s, action])\n",
        "        \n",
        "        s = new_state\n",
        "        \n",
        "print(\"  Action 0    Action 1\")\n",
        "print(q_table)\n",
        "env.close()\n"
      ],
      "execution_count": null,
      "outputs": [
        {
          "output_type": "stream",
          "text": [
            "  Action 0    Action 1\n",
            "[[646.06023989 645.05679235]\n",
            " [682.95414742 651.09926918]\n",
            " [734.97705094 684.4357969 ]\n",
            " [802.31911557 727.4988229 ]\n",
            " [851.01207327 694.67939914]]\n"
          ],
          "name": "stdout"
        }
      ]
    },
    {
      "cell_type": "code",
      "metadata": {
        "id": "q9iq6Ro7ieh9"
      },
      "source": [
        "# QUESTION 4, \n",
        "# functions to perform value iteration on the chain problem\n",
        "\n",
        "# Probability for the actions are taken from this article http://ceit.aut.ac.ir/~shiry/lecture/machine-learning/papers/BRL-2000.pdf page 6 \n",
        "# 0.8 to move or stay and 0.2 to slip back\n",
        "\n",
        "# Takes a position, width and height of a grid and return possible actions from that position\n",
        "def get_actions(x, y, width, height):\n",
        "    # All available actions in the chain problem graph \n",
        "    action = {\n",
        "        \"name\": \"move\",\n",
        "        \"pos\": (x + 1, y + 0), \n",
        "        \"prob\": 0.8\n",
        "    }\n",
        "    # Remove the move action if the current state is most to the right and add the stay action instead\n",
        "    if x == (width - 1):\n",
        "        action = {\n",
        "            \"name\": \"stay\",\n",
        "            \"pos\": (x, y), \n",
        "            \"prob\": 0.8\n",
        "        }\n",
        "    \n",
        "    return action   \n",
        "\n",
        "def get_max_value_action(x, y, grid, reward_grid, discount):\n",
        "    # Possible action to take given current state (x,y)\n",
        "    action = get_actions(x, y, len(grid[0]), len(grid))\n",
        "    # Coordinates for next state with given action\n",
        "    next_state = action[\"pos\"]\n",
        "    # Probabilty on succeding with given action\n",
        "    prob = action[\"prob\"]\n",
        "    # Value at the next state in the grid on given action\n",
        "    next_state_reward = grid[next_state[1]][next_state[0]]\n",
        "    # Value at the first state in (0,0) in the grid\n",
        "    state_one_reward = grid[0][0]\n",
        "    # Reward on given action(move gives 0)\n",
        "    immediate_reward_action = 0\n",
        "    # Reward on slip back action (going back to state 1)\n",
        "    immediate_reward_go_back = reward_grid[0][0]   \n",
        "    # Special case when immidiate reward for the action \"stay\" is 10\n",
        "    if action[\"name\"] == \"stay\":\n",
        "        immediate_reward_action = reward_grid[next_state[1]][next_state[0]]\n",
        "\n",
        "    # Calculate optimal policy for each state given the optimal value grid and then return the value grid and policy grid\n",
        "    reward = prob * (immediate_reward_action + discount * next_state_reward) + (1.0 - prob) * (immediate_reward_go_back + discount * state_one_reward)\n",
        "    \n",
        "    # Return a dict containing the action that resulted with the highest reward\n",
        "    return {\"action\": action[\"name\"], \"reward\": reward}\n",
        "\n"
      ],
      "execution_count": null,
      "outputs": []
    },
    {
      "cell_type": "code",
      "metadata": {
        "colab": {
          "base_uri": "https://localhost:8080/"
        },
        "id": "bpLB-72QPPsj",
        "outputId": "97cd4c68-ac36-46a5-f550-31ebb2cda75e"
      },
      "source": [
        "# QUESTION 4, result\n",
        "\n",
        "# Initial matrix v0\n",
        "v0 = [[0, 0, 0, 0, 0, 0]]\n",
        "# Reward matrix\n",
        "r =  [[2, 0, 0, 0, 0, 10]]\n",
        "\n",
        "grid, policys = value_iteration(v0, r, discount = 0.95)\n",
        "print_grids(grid, policys)\n"
      ],
      "execution_count": null,
      "outputs": [
        {
          "output_type": "stream",
          "text": [
            "Value matrix\n",
            "[12.388, 15.057, 18.568, 23.189, 29.269, 37.269]\n",
            "\n",
            "Policy matrix\n",
            "[['move'], ['move'], ['move'], ['move'], ['move'], ['stay']]\n",
            "\n",
            "\n"
          ],
          "name": "stdout"
        }
      ]
    },
    {
      "cell_type": "markdown",
      "metadata": {
        "id": "qXP0NnV5fb4d"
      },
      "source": [
        "**4a.** Our value iteration shows that the optimal policy for the Chain Problem is to do action a on every state, i.e. move from 1 to 2, 2 to 3, 3 to 4 and finally 4 to 5, and then stay at 5. This can be seen by the policy printed, which tells us that ‘move’, i.e. “go to right”, should be done 5 times, and then ‘stay’ after that. Our Q-table converges to the same conclusion, that it is the best option to do action 0 (move to the right and then stay at 5) in each state. \n",
        "\n",
        "**4b.** If no exploration would be allowed, the agent would always choose the action that generated the highest Q-value in the Q-table at a specific state. If the agent would always do so in the chain example, the agent would always choose to go to 1 in space 1, as that generates the highest Q-value. With permission to explore other alternative actions, the algorithm has the possibility to find ways that could lead to higher rewards in the long-term. It will also explore a lot more of the space-action combinations than if just choosing the next best action every time. \n"
      ]
    },
    {
      "cell_type": "markdown",
      "metadata": {
        "id": "UWUqaN60H7e8"
      },
      "source": [
        "## Question 5\n",
        "\n",
        "**5a)** Give a summary of how a decision tree works and how it extends to random forests.\n",
        "\n",
        "**5b)** Explain what makes reinforcement learning different from supervised learning tasks such as regression or classification."
      ]
    },
    {
      "cell_type": "markdown",
      "metadata": {
        "id": "V1YzGUiWfqtu"
      },
      "source": [
        "**5a.** Decision trees can be displayed as a tree-structured graph, where every node is a problem/question. Every branch out of the node is an answer to the node’s question, and either leads to a new node with a new problem/question, or to a leaf (end-point). The leaves are categories. \n",
        "\n",
        "A random forest is a number of decision trees, i.e. a forest containing decision trees. Random forests query all the decision trees and calculate the average from the answers they give. Random forests select random features from some data, generates a decision tree from it, and repeats the process until a sufficient amount of decision trees are created. \n",
        "\n",
        "**5b.** In supervised tasks such as classification or regression, the algorithm trains on known x, y pairs, to learn how to map new x values to y values. In reinforced learning, an agent is exploring an environment and tries to maximize the rewards it gets by performing some actions. \n"
      ]
    },
    {
      "cell_type": "markdown",
      "metadata": {
        "id": "Wev-_UhcH7e8"
      },
      "source": [
        "\n",
        "# References\n",
        "Primer/text based on the following references:\n",
        "* http://www.cse.chalmers.se/~chrdimi/downloads/book.pdf\n",
        "* https://github.com/olethrosdc/ml-society-science/blob/master/notes.pdf"
      ]
    }
  ]
}